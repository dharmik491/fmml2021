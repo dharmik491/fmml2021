{
  "nbformat": 4,
  "nbformat_minor": 0,
  "metadata": {
    "colab": {
      "name": "07_Defining_Functions.ipynb",
      "provenance": [],
      "include_colab_link": true
    },
    "kernelspec": {
      "name": "python3",
      "display_name": "Python 3"
    },
    "language_info": {
      "name": "python"
    }
  },
  "cells": [
    {
      "cell_type": "markdown",
      "metadata": {
        "id": "view-in-github",
        "colab_type": "text"
      },
      "source": [
        "<a href=\"https://colab.research.google.com/github/dharmik491/fmml2021/blob/main/07_Defining_Functions.ipynb\" target=\"_parent\"><img src=\"https://colab.research.google.com/assets/colab-badge.svg\" alt=\"Open In Colab\"/></a>"
      ]
    },
    {
      "cell_type": "code",
      "metadata": {
        "id": "1pqsgNqwnbHE"
      },
      "source": [
        "def inList (my_char, my_list=['a','e','i','o','u']):\n",
        "  \"\"\" this is a function to check whether a char is vowel or not \"\"\"\n",
        "  for each_char in my_list:\n",
        "    if each_char == my_char.lower():\n",
        "      return True\n",
        "  return False"
      ],
      "execution_count": 1,
      "outputs": []
    },
    {
      "cell_type": "code",
      "metadata": {
        "id": "SLpNGCWYn6Er",
        "outputId": "530bc77d-06e8-4485-ab7c-02069fdf5a36",
        "colab": {
          "base_uri": "https://localhost:8080/"
        }
      },
      "source": [
        "inList('Z', ['x', 'y', 'z'])"
      ],
      "execution_count": 2,
      "outputs": [
        {
          "output_type": "execute_result",
          "data": {
            "text/plain": [
              "True"
            ]
          },
          "metadata": {},
          "execution_count": 2
        }
      ]
    },
    {
      "cell_type": "code",
      "metadata": {
        "id": "r_KUNOW3rCc6",
        "outputId": "66c49994-6df2-4978-cf59-454cdc04fceb",
        "colab": {
          "base_uri": "https://localhost:8080/"
        }
      },
      "source": [
        "# Write a function to check whether a given number belongs to fibonacci series or not\n",
        "import math\n",
        "\n",
        "\n",
        "def isPerfectSquare(n):\n",
        "  sqr = math.sqrt(n)\n",
        "  if sqr*sqr == n:\n",
        "      is_perfect_square = True\n",
        "  else:\n",
        "      is_perfect_square = False\n",
        "  return is_perfect_square\n",
        "\n",
        "def isFibonacci(n):\n",
        "  return isPerfectSquare(5*n*n - 4) or isPerfectSquare(5*n*n + 4)  \n",
        "\n",
        "\n",
        "number_list = [1,2,34,32,3,5]\n",
        "for i in number_list:\n",
        "  if isFibonacci(i) == True:\n",
        "    print(f\"{i} is a Fibonacci Number.\")\n",
        "  else:\n",
        "    print(f\"{i} is not a Fibonacci Number.\")"
      ],
      "execution_count": 8,
      "outputs": [
        {
          "output_type": "stream",
          "name": "stdout",
          "text": [
            "1 is a Fibonacci Number.\n",
            "2 is a Fibonacci Number.\n",
            "34 is a Fibonacci Number.\n",
            "32 is a Fibonacci Number.\n",
            "3 is a Fibonacci Number.\n",
            "5 is a Fibonacci Number.\n"
          ]
        }
      ]
    },
    {
      "cell_type": "markdown",
      "metadata": {
        "id": "3hfExC9BPkKK"
      },
      "source": [
        "Reference: [Python Documentation on Functions](https://docs.python.org/3/tutorial/controlflow.html#defining-functions)"
      ]
    }
  ]
}